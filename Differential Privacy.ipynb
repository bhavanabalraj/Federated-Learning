{
  "nbformat": 4,
  "nbformat_minor": 0,
  "metadata": {
    "colab": {
      "name": "DP.ipynb",
      "provenance": [],
      "authorship_tag": "ABX9TyPpVFbpB1W5epm8pBJpsWB/",
      "include_colab_link": true
    },
    "kernelspec": {
      "name": "python3",
      "display_name": "Python 3"
    }
  },
  "cells": [
    {
      "cell_type": "markdown",
      "metadata": {
        "id": "view-in-github",
        "colab_type": "text"
      },
      "source": [
        "<a href=\"https://colab.research.google.com/github/bhavanabalraj/Federated-Learning/blob/master/Differential%20Privacy.ipynb\" target=\"_parent\"><img src=\"https://colab.research.google.com/assets/colab-badge.svg\" alt=\"Open In Colab\"/></a>"
      ]
    },
    {
      "cell_type": "code",
      "metadata": {
        "id": "WwkFV4Wm0_zB",
        "colab_type": "code",
        "colab": {
          "base_uri": "https://localhost:8080/",
          "height": 69
        },
        "outputId": "3c896666-0693-4865-a450-6d0fece53672"
      },
      "source": [
        "!pip install torch"
      ],
      "execution_count": 1,
      "outputs": [
        {
          "output_type": "stream",
          "text": [
            "Requirement already satisfied: torch in /usr/local/lib/python3.6/dist-packages (1.5.0+cu101)\n",
            "Requirement already satisfied: numpy in /usr/local/lib/python3.6/dist-packages (from torch) (1.18.4)\n",
            "Requirement already satisfied: future in /usr/local/lib/python3.6/dist-packages (from torch) (0.16.0)\n"
          ],
          "name": "stdout"
        }
      ]
    },
    {
      "cell_type": "code",
      "metadata": {
        "id": "6IbRTqmG1DGv",
        "colab_type": "code",
        "colab": {
          "base_uri": "https://localhost:8080/",
          "height": 35
        },
        "outputId": "ad976f9f-3278-4572-ae54-9485697a7652"
      },
      "source": [
        "import torch\n",
        "\n",
        "num_entries = 5000\n",
        "\n",
        "db = torch.rand(num_entries) > 0.5\n",
        "db.shape\n",
        "\n",
        "db[0:5]"
      ],
      "execution_count": 10,
      "outputs": [
        {
          "output_type": "execute_result",
          "data": {
            "text/plain": [
              "tensor([False,  True,  True, False, False])"
            ]
          },
          "metadata": {
            "tags": []
          },
          "execution_count": 10
        }
      ]
    },
    {
      "cell_type": "code",
      "metadata": {
        "id": "L6S3uv6w1Wac",
        "colab_type": "code",
        "colab": {
          "base_uri": "https://localhost:8080/",
          "height": 35
        },
        "outputId": "67c83eec-2120-496b-b92f-28e03a798c77"
      },
      "source": [
        "dbList = []\n",
        "\n",
        "for i in range(num_entries):\n",
        "  y = db.clone().detach()\n",
        "  y = torch.cat([y[0:i],y[i+1:]])\n",
        "  dbList.append(y)\n",
        "\n",
        "dbList[0].shape"
      ],
      "execution_count": 12,
      "outputs": [
        {
          "output_type": "execute_result",
          "data": {
            "text/plain": [
              "torch.Size([4999])"
            ]
          },
          "metadata": {
            "tags": []
          },
          "execution_count": 12
        }
      ]
    },
    {
      "cell_type": "code",
      "metadata": {
        "id": "N1JSq9F63cTS",
        "colab_type": "code",
        "colab": {}
      },
      "source": [
        "def get_parallel_db(db, index):\n",
        "  return torch.cat([db[0:index],db[index+1:]])\n",
        "\n",
        "def get_parallel_dbs(db):\n",
        "\n",
        "  parallel_dbs = list()\n",
        "\n",
        "  for i in range(len(db)):\n",
        "    pdb = get_parallel_db(db,i)\n",
        "    parallel_dbs.append(pdb)\n",
        "\n",
        "  return parallel_dbs\n",
        "\n",
        "def create_db_and_parallels(num_entries):\n",
        "  \n",
        "  db = torch.rand(num_entries) > 0.5\n",
        "  return db, get_parallel_dbs(db)\n"
      ],
      "execution_count": 0,
      "outputs": []
    },
    {
      "cell_type": "code",
      "metadata": {
        "id": "d7ARUU_y4X0l",
        "colab_type": "code",
        "colab": {}
      },
      "source": [
        "db, pdbs = create_db_and_parallels(20)\n",
        "pdbs"
      ],
      "execution_count": 0,
      "outputs": []
    },
    {
      "cell_type": "code",
      "metadata": {
        "id": "ZZah4iP054Tg",
        "colab_type": "code",
        "colab": {
          "base_uri": "https://localhost:8080/",
          "height": 35
        },
        "outputId": "8b763305-4481-4af5-a5ab-306af5970fb4"
      },
      "source": [
        "def query(db, threshold):\n",
        "  return (db.sum() > threshold).float()\n",
        "\n",
        "def sensitivity(query, num_entries):\n",
        "  \n",
        "  db, pdbs = create_db_and_parallels(num_entries)\n",
        "\n",
        "  full_db_result = query(db, 5)\n",
        "\n",
        "  sensitivity = 0\n",
        "\n",
        "  for pdb in pdbs:\n",
        "    pdb_result = query(pdb, 5)\n",
        "    distance = torch.abs(full_db_result - pdb_result)\n",
        "\n",
        "    if distance > sensitivity:\n",
        "      sensitivity = distance\n",
        "\n",
        "  return sensitivity\n",
        "\n",
        "sensitivityList = list()\n",
        "\n",
        "for i in range(10):\n",
        "  s = sensitivity(query, 10)\n",
        "  sensitivityList.append(s)\n",
        "\n",
        "sensitivityList"
      ],
      "execution_count": 31,
      "outputs": [
        {
          "output_type": "execute_result",
          "data": {
            "text/plain": [
              "[0, 0, tensor(1.), 0, 0, tensor(1.), tensor(1.), 0, 0, 0]"
            ]
          },
          "metadata": {
            "tags": []
          },
          "execution_count": 31
        }
      ]
    },
    {
      "cell_type": "code",
      "metadata": {
        "id": "ak21snDL_Ak1",
        "colab_type": "code",
        "colab": {
          "base_uri": "https://localhost:8080/",
          "height": 35
        },
        "outputId": "26786c78-5342-4d28-c9e3-7d3e9704d09a"
      },
      "source": [
        "def query(db):\n",
        "  return db.sum()\n",
        "\n",
        "def differencing(db, pdb):\n",
        "  full_db_result = query(db)\n",
        "  pdb_result = query(pdb)\n",
        "  return full_db_result == pdb_result\n",
        "\n",
        "db, pdbs = create_db_and_parallels(100)\n",
        "pdb = get_parallel_db(db, index)\n",
        "differencing(db, 5)\n",
        "\n"
      ],
      "execution_count": 34,
      "outputs": [
        {
          "output_type": "execute_result",
          "data": {
            "text/plain": [
              "tensor(False)"
            ]
          },
          "metadata": {
            "tags": []
          },
          "execution_count": 34
        }
      ]
    },
    {
      "cell_type": "code",
      "metadata": {
        "id": "DEXtWow8ALPu",
        "colab_type": "code",
        "colab": {}
      },
      "source": [
        ""
      ],
      "execution_count": 0,
      "outputs": []
    }
  ]
}