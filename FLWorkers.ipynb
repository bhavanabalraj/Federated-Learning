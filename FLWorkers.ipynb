{
  "nbformat": 4,
  "nbformat_minor": 0,
  "metadata": {
    "colab": {
      "name": "FLWorkers.ipynb",
      "provenance": [],
      "authorship_tag": "ABX9TyPqb3zV6mq6XoYu45Qb9zD7",
      "include_colab_link": true
    },
    "kernelspec": {
      "name": "python3",
      "display_name": "Python 3"
    }
  },
  "cells": [
    {
      "cell_type": "markdown",
      "metadata": {
        "id": "view-in-github",
        "colab_type": "text"
      },
      "source": [
        "<a href=\"https://colab.research.google.com/github/bhavanabalraj/Federated-Learning/blob/master/FLWorkers.ipynb\" target=\"_parent\"><img src=\"https://colab.research.google.com/assets/colab-badge.svg\" alt=\"Open In Colab\"/></a>"
      ]
    },
    {
      "cell_type": "code",
      "metadata": {
        "id": "ZydKnvCTbse2",
        "colab_type": "code",
        "outputId": "51f9d95a-e6d3-4f7b-b8d9-335b78e5e9d6",
        "colab": {
          "base_uri": "https://localhost:8080/",
          "height": 379
        }
      },
      "source": [
        "!pip install syft"
      ],
      "execution_count": 0,
      "outputs": [
        {
          "output_type": "stream",
          "text": [
            "Collecting syft\n",
            "\u001b[?25l  Downloading https://files.pythonhosted.org/packages/2f/db/8719b8859eb340ac7e21c03d358af894344d62edd429475e576bcb453480/syft-0.2.5-py3-none-any.whl (369kB)\n",
            "\r\u001b[K     |▉                               | 10kB 18.3MB/s eta 0:00:01\r\u001b[K     |█▊                              | 20kB 3.1MB/s eta 0:00:01\r\u001b[K     |██▋                             | 30kB 4.2MB/s eta 0:00:01\r\u001b[K     |███▌                            | 40kB 4.5MB/s eta 0:00:01\r\u001b[K     |████▍                           | 51kB 3.6MB/s eta 0:00:01\r\u001b[K     |█████▎                          | 61kB 4.1MB/s eta 0:00:01\r\u001b[K     |██████▏                         | 71kB 4.3MB/s eta 0:00:01\r\u001b[K     |███████                         | 81kB 4.7MB/s eta 0:00:01\r\u001b[K     |████████                        | 92kB 5.1MB/s eta 0:00:01\r\u001b[K     |████████▉                       | 102kB 4.9MB/s eta 0:00:01\r\u001b[K     |█████████▊                      | 112kB 4.9MB/s eta 0:00:01\r\u001b[K     |██████████▋                     | 122kB 4.9MB/s eta 0:00:01\r\u001b[K     |███████████▌                    | 133kB 4.9MB/s eta 0:00:01\r\u001b[K     |████████████▍                   | 143kB 4.9MB/s eta 0:00:01\r\u001b[K     |█████████████▎                  | 153kB 4.9MB/s eta 0:00:01\r\u001b[K     |██████████████▏                 | 163kB 4.9MB/s eta 0:00:01\r\u001b[K     |███████████████                 | 174kB 4.9MB/s eta 0:00:01\r\u001b[K     |████████████████                | 184kB 4.9MB/s eta 0:00:01\r\u001b[K     |████████████████▉               | 194kB 4.9MB/s eta 0:00:01\r\u001b[K     |█████████████████▊              | 204kB 4.9MB/s eta 0:00:01\r\u001b[K     |██████████████████▋             | 215kB 4.9MB/s eta 0:00:01\r\u001b[K     |███████████████████▌            | 225kB 4.9MB/s eta 0:00:01\r\u001b[K     |████████████████████▍           | 235kB 4.9MB/s eta 0:00:01\r\u001b[K     |█████████████████████▎          | 245kB 4.9MB/s eta 0:00:01\r\u001b[K     |██████████████████████▏         | 256kB 4.9MB/s eta 0:00:01\r\u001b[K     |███████████████████████         | 266kB 4.9MB/s eta 0:00:01\r\u001b[K     |████████████████████████        | 276kB 4.9MB/s eta 0:00:01\r\u001b[K     |████████████████████████▉       | 286kB 4.9MB/s eta 0:00:01\r\u001b[K     |█████████████████████████▊      | 296kB 4.9MB/s eta 0:00:01\r\u001b[K     |██████████████████████████▋     | 307kB 4.9MB/s eta 0:00:01\r\u001b[K     |███████████████████████████▌    | 317kB 4.9MB/s eta 0:00:01\r\u001b[K     |████████████████████████████▍   | 327kB 4.9MB/s eta 0:00:01\r\u001b[K     |█████████████████████████████▎  | 337kB 4.9MB/s eta 0:00:01\r\u001b[K     |██████████████████████████████▏ | 348kB 4.9MB/s eta 0:00:01\r\u001b[K     |███████████████████████████████ | 358kB 4.9MB/s eta 0:00:01\r\u001b[K     |████████████████████████████████| 368kB 4.9MB/s eta 0:00:01\r\u001b[K     |████████████████████████████████| 378kB 4.9MB/s \n",
            "\u001b[?25hRequirement already satisfied: Flask~=1.1.1 in /usr/local/lib/python3.6/dist-packages (from syft) (1.1.2)\n",
            "Collecting phe~=1.4.0\n",
            "  Downloading https://files.pythonhosted.org/packages/32/0e/568e97b014eb14e794a1258a341361e9da351dc6240c63b89e1541e3341c/phe-1.4.0.tar.gz\n",
            "Collecting lz4~=3.0.2\n",
            "\u001b[?25l  Downloading https://files.pythonhosted.org/packages/e7/81/011fef8766fb0ef681037ad6fee96168ee03a864464986cbaa23e5357704/lz4-3.0.2-cp36-cp36m-manylinux2010_x86_64.whl (1.8MB)\n",
            "\u001b[K     |████████████████████████████████| 1.8MB 12.0MB/s \n",
            "\u001b[?25hCollecting websockets~=8.1.0\n",
            "\u001b[?25l  Downloading https://files.pythonhosted.org/packages/bb/d9/856af84843912e2853b1b6e898ac8b802989fcf9ecf8e8445a1da263bf3b/websockets-8.1-cp36-cp36m-manylinux2010_x86_64.whl (78kB)\n",
            "\u001b[K     |████████████████████████████████| 81kB 9.3MB/s \n",
            "\u001b[?25hRequirement already satisfied: msgpack~=1.0.0 in /usr/local/lib/python3.6/dist-packages (from syft) (1.0.0)\n",
            "Collecting Pillow~=6.2.2\n",
            "\u001b[?25l  Downloading https://files.pythonhosted.org/packages/8a/fd/bbbc569f98f47813c50a116b539d97b3b17a86ac7a309f83b2022d26caf2/Pillow-6.2.2-cp36-cp36m-manylinux1_x86_64.whl (2.1MB)\n",
            "\u001b[K     |████████████████████████████████| 2.1MB 41.5MB/s \n",
            "\u001b[?25hCollecting torch~=1.4.0\n",
            "\u001b[?25l  Downloading https://files.pythonhosted.org/packages/24/19/4804aea17cd136f1705a5e98a00618cb8f6ccc375ad8bfa437408e09d058/torch-1.4.0-cp36-cp36m-manylinux1_x86_64.whl (753.4MB)\n",
            "\u001b[K     |█████████████████████▉          | 514.8MB 1.4MB/s eta 0:02:56"
          ],
          "name": "stdout"
        }
      ]
    },
    {
      "cell_type": "code",
      "metadata": {
        "id": "xokuPsffKxVG",
        "colab_type": "code",
        "colab": {}
      },
      "source": [
        "import torch as tc\n",
        "from torchvision import datasets, transforms\n",
        "import syft as sy \n",
        "\n",
        "hook = sy.TorchHook(tc)\n",
        "\n",
        "bob = sy.VirtualWorker(hook, id=\"bob\")\n",
        "alice = sy.VirtualWorker(hook, id=\"alice\")"
      ],
      "execution_count": 0,
      "outputs": []
    },
    {
      "cell_type": "code",
      "metadata": {
        "id": "_HhxmV4vLVzP",
        "colab_type": "code",
        "colab": {}
      },
      "source": [
        "transform = transforms.Compose([transforms.ToTensor(),\n",
        "                                transforms.Normalize([0.5],[0.5])])\n",
        "\n",
        "trainset = datasets.FashionMNIST('./F_MNIST_data', download=True, train=True, transform=transform)\n",
        "#trainloader = torch.utils.data.DataLoader(trainset, batch_size=64, shuffle=True)\n",
        "trainloader = sy.FederatedDataLoader(trainset.federate((bob,alice)), batch_size=64, shuffle=True)\n",
        "\n",
        "testset = datasets.FashionMNIST('./F_MNIST_data', download=True, train=False, transform=transform)\n",
        "testloader = tc.utils.data.DataLoader(testset, batch_size=64, shuffle=True)\n"
      ],
      "execution_count": 0,
      "outputs": []
    },
    {
      "cell_type": "code",
      "metadata": {
        "id": "njECwpmJMIbh",
        "colab_type": "code",
        "colab": {}
      },
      "source": [
        "from torch import nn, optim\n",
        "import torch.nn.functional as F"
      ],
      "execution_count": 0,
      "outputs": []
    },
    {
      "cell_type": "code",
      "metadata": {
        "id": "rd1-kcg_MS8Z",
        "colab_type": "code",
        "colab": {}
      },
      "source": [
        "class Classifier(nn.Module):\n",
        "  \n",
        "  def __init__(self):\n",
        "    super().__init__()\n",
        "    self.fc1 = nn.Linear(784, 256)\n",
        "    self.fc2 = nn.Linear(256, 128)\n",
        "    self.fc3 = nn.Linear(128, 64)\n",
        "    self.output = nn.Linear(64, 10)\n",
        "\n",
        "    self.dropout = nn.Dropout(p=0.2)\n",
        "\n",
        "  def forward(self,x):\n",
        "\n",
        "    x = x.view(x.shape[0],-1)\n",
        "    x = self.dropout(F.relu(self.fc1(x)))\n",
        "    x = self.dropout(F.relu(self.fc2(x)))\n",
        "    x = self.dropout(F.relu(self.fc3(x)))\n",
        "    x = F.log_softmax(self.output(x), dim=1)\n",
        "\n",
        "    return x"
      ],
      "execution_count": 0,
      "outputs": []
    },
    {
      "cell_type": "code",
      "metadata": {
        "id": "3BuObL_TM82q",
        "colab_type": "code",
        "colab": {}
      },
      "source": [
        "model = Classifier()\n",
        "criterion = nn.NLLLoss()\n",
        "optimizer = optim.Adam(model.parameters(), lr=0.001)"
      ],
      "execution_count": 0,
      "outputs": []
    },
    {
      "cell_type": "code",
      "metadata": {
        "id": "0sDcAWm0NQG8",
        "colab_type": "code",
        "outputId": "01b034bb-4ba9-46f6-b41e-e89028c9244f",
        "colab": {
          "base_uri": "https://localhost:8080/",
          "height": 235
        }
      },
      "source": [
        "epochs = 5\n",
        "steps = 0\n",
        "\n",
        "training_loss, testing_loss = [],[]\n",
        "for e in range(epochs):\n",
        "  \n",
        "  running_loss = 0\n",
        "  \n",
        "  for images, labels in trainloader:\n",
        "\n",
        "    model.send(images.location)\n",
        "\n",
        "    optimizer.zero_grad()\n",
        "\n",
        "    log_ps = model(images)\n",
        "    loss = criterion(log_ps, labels)\n",
        "    loss.backward()\n",
        "    optimizer.step()\n",
        "\n",
        "    model.get()\n",
        "\n",
        "    running_loss += loss.get()\n",
        "\n",
        "  else:\n",
        "\n",
        "    test_loss = 0\n",
        "    accuracy = 0\n",
        "\n",
        "    with tc.no_grad():\n",
        "      \n",
        "      model.eval()\n",
        "\n",
        "      for images, labels in testloader:\n",
        "        log_ps = model(images)\n",
        "        test_loss = criterion(log_ps, labels)\n",
        "        test_loss += test_loss.item()\n",
        "\n",
        "        ps = torch.exp(log_ps)\n",
        "        top_p, top_class = ps.topk(1, dim=1)\n",
        "        equality = top_class == labels.view(*top_class.shape)\n",
        "        accuracy += torch.mean(equality.type(torch.FloatTensor))\n",
        "\n",
        "    model.train()\n",
        "    \n",
        "    training_loss.append(running_loss/len(trainloader))\n",
        "    testing_loss.append(test_loss/len(testloader))\n",
        "\n",
        "    print(\"Epochs :{}/{}\".format(e+1, epochs),\n",
        "    \"Training Loss: {:.3f}.. \".format(running_loss/len(trainloader)),\n",
        "    \"Test Loss: {:.3f}.. \".format(test_loss/len(testloader)),\n",
        "    \"Test Accuracy: {:.3f}\".format(accuracy/len(testloader)))"
      ],
      "execution_count": 1,
      "outputs": [
        {
          "output_type": "error",
          "ename": "NameError",
          "evalue": "ignored",
          "traceback": [
            "\u001b[0;31m---------------------------------------------------------------------------\u001b[0m",
            "\u001b[0;31mNameError\u001b[0m                                 Traceback (most recent call last)",
            "\u001b[0;32m<ipython-input-1-61d10c4a365e>\u001b[0m in \u001b[0;36m<module>\u001b[0;34m()\u001b[0m\n\u001b[1;32m      7\u001b[0m   \u001b[0mrunning_loss\u001b[0m \u001b[0;34m=\u001b[0m \u001b[0;36m0\u001b[0m\u001b[0;34m\u001b[0m\u001b[0;34m\u001b[0m\u001b[0m\n\u001b[1;32m      8\u001b[0m \u001b[0;34m\u001b[0m\u001b[0m\n\u001b[0;32m----> 9\u001b[0;31m   \u001b[0;32mfor\u001b[0m \u001b[0mimages\u001b[0m\u001b[0;34m,\u001b[0m \u001b[0mlabels\u001b[0m \u001b[0;32min\u001b[0m \u001b[0mtrainloader\u001b[0m\u001b[0;34m:\u001b[0m\u001b[0;34m\u001b[0m\u001b[0;34m\u001b[0m\u001b[0m\n\u001b[0m\u001b[1;32m     10\u001b[0m \u001b[0;34m\u001b[0m\u001b[0m\n\u001b[1;32m     11\u001b[0m     \u001b[0mmodel\u001b[0m\u001b[0;34m.\u001b[0m\u001b[0msend\u001b[0m\u001b[0;34m(\u001b[0m\u001b[0mimages\u001b[0m\u001b[0;34m.\u001b[0m\u001b[0mlocation\u001b[0m\u001b[0;34m)\u001b[0m\u001b[0;34m\u001b[0m\u001b[0;34m\u001b[0m\u001b[0m\n",
            "\u001b[0;31mNameError\u001b[0m: name 'trainloader' is not defined"
          ]
        }
      ]
    },
    {
      "cell_type": "code",
      "metadata": {
        "id": "fyyc4hzTSxKJ",
        "colab_type": "code",
        "colab": {}
      },
      "source": [
        "!wget https://raw.githubusercontent.com/udacity/deep-learning-v2-pytorch/3bd7dea850e936d8cb44adda8200e4e2b5d627e3/intro-to-pytorch/helper.py\n",
        "import helper\n",
        "\n",
        "dataiter = iter(testloader)\n",
        "images,labels = dataiter.next()\n",
        "image = images[0]\n",
        "\n",
        "img = image.view(1,784)\n",
        "\n",
        "model.eval()\n",
        "\n",
        "with torch.no_grad():\n",
        "  output = model(img)\n",
        "\n",
        "ps = torch.exp(output)\n",
        "model.train()\n",
        "\n",
        "helper.view_classify(img, ps, version='Fashion')"
      ],
      "execution_count": 0,
      "outputs": []
    }
  ]
}