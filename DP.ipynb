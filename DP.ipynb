{
  "nbformat": 4,
  "nbformat_minor": 0,
  "metadata": {
    "colab": {
      "name": "DP.ipynb",
      "provenance": [],
      "authorship_tag": "ABX9TyODXXQXQPjV27cfPGdqIGbw",
      "include_colab_link": true
    },
    "kernelspec": {
      "name": "python3",
      "display_name": "Python 3"
    }
  },
  "cells": [
    {
      "cell_type": "markdown",
      "metadata": {
        "id": "view-in-github",
        "colab_type": "text"
      },
      "source": [
        "<a href=\"https://colab.research.google.com/github/bhavanabalraj/Federated-Learning/blob/master/DP.ipynb\" target=\"_parent\"><img src=\"https://colab.research.google.com/assets/colab-badge.svg\" alt=\"Open In Colab\"/></a>"
      ]
    },
    {
      "cell_type": "code",
      "metadata": {
        "id": "WwkFV4Wm0_zB",
        "colab_type": "code",
        "colab": {
          "base_uri": "https://localhost:8080/",
          "height": 69
        },
        "outputId": "f8f60114-27b2-4dd0-8ec5-ce8779c47624"
      },
      "source": [
        "!pip install torch"
      ],
      "execution_count": 7,
      "outputs": [
        {
          "output_type": "stream",
          "text": [
            "Requirement already satisfied: torch in /usr/local/lib/python3.6/dist-packages (1.5.0+cu101)\n",
            "Requirement already satisfied: numpy in /usr/local/lib/python3.6/dist-packages (from torch) (1.18.4)\n",
            "Requirement already satisfied: future in /usr/local/lib/python3.6/dist-packages (from torch) (0.16.0)\n"
          ],
          "name": "stdout"
        }
      ]
    },
    {
      "cell_type": "code",
      "metadata": {
        "id": "6IbRTqmG1DGv",
        "colab_type": "code",
        "colab": {
          "base_uri": "https://localhost:8080/",
          "height": 35
        },
        "outputId": "0656f3f2-8842-41d2-e59f-b5e75a4914e0"
      },
      "source": [
        "import torch\n",
        "\n",
        "num_entries = 5000\n",
        "\n",
        "db = torch.rand(num_entries) > 0.5\n",
        "db.shape\n",
        "\n",
        "db[0:5]"
      ],
      "execution_count": 8,
      "outputs": [
        {
          "output_type": "execute_result",
          "data": {
            "text/plain": [
              "tensor([ True, False,  True, False, False])"
            ]
          },
          "metadata": {
            "tags": []
          },
          "execution_count": 8
        }
      ]
    },
    {
      "cell_type": "code",
      "metadata": {
        "id": "L6S3uv6w1Wac",
        "colab_type": "code",
        "colab": {
          "base_uri": "https://localhost:8080/",
          "height": 35
        },
        "outputId": "598ab2c7-f1ce-4051-bf9d-23521ba2ab0f"
      },
      "source": [
        "dbList = []\n",
        "\n",
        "for i in range(num_entries):\n",
        "  y = db.clone().detach()\n",
        "  y = torch.cat([y[0:i],y[i+1:]])\n",
        "  dbList.append(y)\n",
        "\n",
        "dbList[0].shape"
      ],
      "execution_count": 9,
      "outputs": [
        {
          "output_type": "execute_result",
          "data": {
            "text/plain": [
              "torch.Size([4999])"
            ]
          },
          "metadata": {
            "tags": []
          },
          "execution_count": 9
        }
      ]
    },
    {
      "cell_type": "code",
      "metadata": {
        "id": "N1JSq9F63cTS",
        "colab_type": "code",
        "colab": {}
      },
      "source": [
        "def get_parallel_db(db, index):\n",
        "  return torch.cat([db[0:index],db[index+1:]])\n",
        "\n",
        "def get_parallel_dbs(db):\n",
        "\n",
        "  parallel_dbs = list()\n",
        "\n",
        "  for i in range(len(db)):\n",
        "    pdb = get_parallel_db(db,i)\n",
        "    parallel_dbs.append(pdb)\n",
        "\n",
        "  return parallel_dbs\n",
        "\n",
        "def create_db_and_parallels(num_entries):\n",
        "  \n",
        "  db = torch.rand(num_entries) > 0.5\n",
        "  return db, get_parallel_dbs(db)\n"
      ],
      "execution_count": 0,
      "outputs": []
    },
    {
      "cell_type": "code",
      "metadata": {
        "id": "d7ARUU_y4X0l",
        "colab_type": "code",
        "colab": {
          "base_uri": "https://localhost:8080/",
          "height": 711
        },
        "outputId": "7122cc10-0cab-4c74-919b-b98bf6ab18c1"
      },
      "source": [
        "db, pdbs = create_db_and_parallels(20)\n",
        "pdbs"
      ],
      "execution_count": 11,
      "outputs": [
        {
          "output_type": "execute_result",
          "data": {
            "text/plain": [
              "[tensor([False, False,  True, False,  True, False, False, False, False, False,\n",
              "          True, False,  True, False,  True, False,  True,  True, False]),\n",
              " tensor([ True, False,  True, False,  True, False, False, False, False, False,\n",
              "          True, False,  True, False,  True, False,  True,  True, False]),\n",
              " tensor([ True, False,  True, False,  True, False, False, False, False, False,\n",
              "          True, False,  True, False,  True, False,  True,  True, False]),\n",
              " tensor([ True, False, False, False,  True, False, False, False, False, False,\n",
              "          True, False,  True, False,  True, False,  True,  True, False]),\n",
              " tensor([ True, False, False,  True,  True, False, False, False, False, False,\n",
              "          True, False,  True, False,  True, False,  True,  True, False]),\n",
              " tensor([ True, False, False,  True, False, False, False, False, False, False,\n",
              "          True, False,  True, False,  True, False,  True,  True, False]),\n",
              " tensor([ True, False, False,  True, False,  True, False, False, False, False,\n",
              "          True, False,  True, False,  True, False,  True,  True, False]),\n",
              " tensor([ True, False, False,  True, False,  True, False, False, False, False,\n",
              "          True, False,  True, False,  True, False,  True,  True, False]),\n",
              " tensor([ True, False, False,  True, False,  True, False, False, False, False,\n",
              "          True, False,  True, False,  True, False,  True,  True, False]),\n",
              " tensor([ True, False, False,  True, False,  True, False, False, False, False,\n",
              "          True, False,  True, False,  True, False,  True,  True, False]),\n",
              " tensor([ True, False, False,  True, False,  True, False, False, False, False,\n",
              "          True, False,  True, False,  True, False,  True,  True, False]),\n",
              " tensor([ True, False, False,  True, False,  True, False, False, False, False,\n",
              "         False, False,  True, False,  True, False,  True,  True, False]),\n",
              " tensor([ True, False, False,  True, False,  True, False, False, False, False,\n",
              "         False,  True,  True, False,  True, False,  True,  True, False]),\n",
              " tensor([ True, False, False,  True, False,  True, False, False, False, False,\n",
              "         False,  True, False, False,  True, False,  True,  True, False]),\n",
              " tensor([ True, False, False,  True, False,  True, False, False, False, False,\n",
              "         False,  True, False,  True,  True, False,  True,  True, False]),\n",
              " tensor([ True, False, False,  True, False,  True, False, False, False, False,\n",
              "         False,  True, False,  True, False, False,  True,  True, False]),\n",
              " tensor([ True, False, False,  True, False,  True, False, False, False, False,\n",
              "         False,  True, False,  True, False,  True,  True,  True, False]),\n",
              " tensor([ True, False, False,  True, False,  True, False, False, False, False,\n",
              "         False,  True, False,  True, False,  True, False,  True, False]),\n",
              " tensor([ True, False, False,  True, False,  True, False, False, False, False,\n",
              "         False,  True, False,  True, False,  True, False,  True, False]),\n",
              " tensor([ True, False, False,  True, False,  True, False, False, False, False,\n",
              "         False,  True, False,  True, False,  True, False,  True,  True])]"
            ]
          },
          "metadata": {
            "tags": []
          },
          "execution_count": 11
        }
      ]
    },
    {
      "cell_type": "code",
      "metadata": {
        "id": "ZZah4iP054Tg",
        "colab_type": "code",
        "colab": {
          "base_uri": "https://localhost:8080/",
          "height": 35
        },
        "outputId": "e3fb4cc9-ef15-4680-dff5-2c4d94b502ad"
      },
      "source": [
        "def query(db, threshold):\n",
        "  return (db.sum() > threshold).float()\n",
        "\n",
        "def sensitivity(query, num_entries):\n",
        "  \n",
        "  db, pdbs = create_db_and_parallels(num_entries)\n",
        "\n",
        "  full_db_result = query(db, 5)\n",
        "\n",
        "  sensitivity = 0\n",
        "\n",
        "  for pdb in pdbs:\n",
        "    pdb_result = query(pdb, 5)\n",
        "    distance = torch.abs(full_db_result - pdb_result)\n",
        "\n",
        "    if distance > sensitivity:\n",
        "      sensitivity = distance\n",
        "\n",
        "  return sensitivity\n",
        "\n",
        "sensitivityList = list()\n",
        "\n",
        "for i in range(10):\n",
        "  s = sensitivity(query, 10)\n",
        "  sensitivityList.append(s)\n",
        "\n",
        "sensitivityList"
      ],
      "execution_count": 12,
      "outputs": [
        {
          "output_type": "execute_result",
          "data": {
            "text/plain": [
              "[0, 0, tensor(1.), tensor(1.), 0, 0, 0, 0, 0, 0]"
            ]
          },
          "metadata": {
            "tags": []
          },
          "execution_count": 12
        }
      ]
    },
    {
      "cell_type": "code",
      "metadata": {
        "id": "ak21snDL_Ak1",
        "colab_type": "code",
        "colab": {
          "base_uri": "https://localhost:8080/",
          "height": 35
        },
        "outputId": "967029d4-9e7d-4b9d-98c6-6242d52bf7d5"
      },
      "source": [
        "def query(db):\n",
        "  return db.sum()\n",
        "\n",
        "def differencing(db, pdb):\n",
        "  full_db_result = query(db)\n",
        "  pdb_result = query(pdb)\n",
        "  return full_db_result == pdb_result\n",
        "\n",
        "db, pdbs = create_db_and_parallels(100)\n",
        "pdb = get_parallel_db(db, 5)\n",
        "differencing(db, pdb)\n",
        "\n"
      ],
      "execution_count": 14,
      "outputs": [
        {
          "output_type": "execute_result",
          "data": {
            "text/plain": [
              "tensor(True)"
            ]
          },
          "metadata": {
            "tags": []
          },
          "execution_count": 14
        }
      ]
    },
    {
      "cell_type": "code",
      "metadata": {
        "id": "KIcbubJQDrqA",
        "colab_type": "code",
        "colab": {
          "base_uri": "https://localhost:8080/",
          "height": 156
        },
        "outputId": "85cc966d-54d7-4b44-c550-a50521beae5c"
      },
      "source": [
        "import random\n",
        "\n",
        "def query(db):\n",
        "  return db.float().mean()\n",
        "\n",
        "def randomDb(db, weight):\n",
        "\n",
        "#  for i in range(len(db)):\n",
        "#    chance1 = random.randint(0,1)\n",
        "#    if chance1 == 0:\n",
        "#        db[i] = random.randint(0,1)\n",
        "#  return db\n",
        "\n",
        "  #weights = torch.tensor([weight, 1-weight], dtype=torch.float)\n",
        "  #print(torch.multinomial(weights, len(db), replacement=True))\n",
        "  first_coin_flip = (torch.rand(len(db)) > 0.5).float()\n",
        "  #first_coin_flip = torch.multinomial(weights, len(db), replacement=True).float()\n",
        "  second_coin_flip  = (torch.rand(len(db)) > 0.5).float()\n",
        "\n",
        "  augmented_db = (db.float() * first_coin_flip) + (1 - first_coin_flip) * second_coin_flip\n",
        "  return augmented_db\n",
        "\n",
        "def testRandomNoise(n_entries):\n",
        "  \n",
        "  db, pdbs = create_db_and_parallels(n_entries)\n",
        "  #print(db)\n",
        "  db_result = query(db)\n",
        "\n",
        "  randomized_db = randomDb(db,0.50)\n",
        "  #print(randomized_db)\n",
        "  randomDb_result = query(randomized_db) * 2 - 0.5\n",
        "\n",
        "  return db_result, randomDb_result\n",
        "\n",
        "for i in [10,100,1000,10000]:\n",
        "  actual, predicted = testRandomNoise(i)\n",
        "  print(actual)\n",
        "  print(predicted)\n"
      ],
      "execution_count": 18,
      "outputs": [
        {
          "output_type": "stream",
          "text": [
            "tensor(0.6000)\n",
            "tensor(0.3000)\n",
            "tensor(0.6100)\n",
            "tensor(0.7200)\n",
            "tensor(0.5160)\n",
            "tensor(0.5040)\n",
            "tensor(0.5026)\n",
            "tensor(0.5112)\n"
          ],
          "name": "stdout"
        }
      ]
    },
    {
      "cell_type": "code",
      "metadata": {
        "id": "Zp_Wx0FOz8-2",
        "colab_type": "code",
        "colab": {
          "base_uri": "https://localhost:8080/",
          "height": 156
        },
        "outputId": "2f71352d-4ecf-4876-faed-df74ab964338"
      },
      "source": [
        "import random\n",
        "\n",
        "def query(db):\n",
        "  return db.float().mean()\n",
        "\n",
        "def randomDb(db, weight):\n",
        "\n",
        "#  for i in range(len(db)):\n",
        "#    chance1 = random.randint(0,1)\n",
        "#    if chance1 == 0:\n",
        "#        db[i] = random.randint(0,1)\n",
        "#  return db\n",
        "\n",
        "  #weights = torch.tensor([weight, 1-weight], dtype=torch.float)\n",
        "  #print(torch.multinomial(weights, len(db), replacement=True))\n",
        "  first_coin_flip = (torch.rand(len(db)) > weight).float()\n",
        "  #first_coin_flip = torch.multinomial(weights, len(db), replacement=True).float()\n",
        "  second_coin_flip  = (torch.rand(len(db)) > 0.5).float()\n",
        "\n",
        "  augmented_db = (db.float() * first_coin_flip) + (1 - first_coin_flip) * second_coin_flip\n",
        "  return augmented_db\n",
        "\n",
        "def testRandomNoise(n_entries):\n",
        "  \n",
        "  db, pdbs = create_db_and_parallels(n_entries)\n",
        "  #print(db)\n",
        "  db_result = query(db)\n",
        "\n",
        "  noise = 0.5\n",
        "  randomized_db = randomDb(db, noise)\n",
        "  #print(randomized_db)\n",
        "  randomDb_result = ((query(randomized_db) / noise) - 0.5) * (noise / (1 - noise))\n",
        "\n",
        "  return db_result, randomDb_result\n",
        "\n",
        "for i in [10,100,1000,10000]:\n",
        "  actual, predicted = testRandomNoise(i)\n",
        "  print(actual)\n",
        "  print(predicted)\n"
      ],
      "execution_count": 23,
      "outputs": [
        {
          "output_type": "stream",
          "text": [
            "tensor(0.6000)\n",
            "tensor(0.5000)\n",
            "tensor(0.4600)\n",
            "tensor(0.4000)\n",
            "tensor(0.5170)\n",
            "tensor(0.5540)\n",
            "tensor(0.4965)\n",
            "tensor(0.5064)\n"
          ],
          "name": "stdout"
        }
      ]
    },
    {
      "cell_type": "code",
      "metadata": {
        "id": "sPLX_PhBdwBZ",
        "colab_type": "code",
        "colab": {}
      },
      "source": [
        "def query(db):\n",
        "  return db.sum() \n",
        "\n",
        "db, pdbs = create_db_and_parallels(num_entries)\n",
        "\n",
        "loc, scale = 0., 1.\n",
        "s = np.random.laplace(loc, scale, 1000)\n",
        "db_result = query(db) + s\n",
        "\n",
        "'''\n",
        "epsilon = 5\n",
        "b = sensitivity(query, 100) / 5\n",
        "\n",
        "np.random.laplace()\n",
        "'''"
      ],
      "execution_count": 0,
      "outputs": []
    }
  ]
}